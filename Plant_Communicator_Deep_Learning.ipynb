{
  "nbformat": 4,
  "nbformat_minor": 0,
  "metadata": {
    "colab": {
      "provenance": [],
      "gpuType": "T4"
    },
    "kernelspec": {
      "name": "python3",
      "display_name": "Python 3"
    },
    "language_info": {
      "name": "python"
    },
    "accelerator": "GPU",
    "gpuClass": "standard"
  },
  "cells": [
    {
      "cell_type": "code",
      "source": [
        "########################### Train data with pre-trained model #####################################\n",
        "import numpy as np\n",
        "import pandas as pd\n",
        "from sklearn.model_selection import train_test_split\n",
        "from sklearn.preprocessing import MinMaxScaler\n",
        "from tensorflow import keras\n",
        "from tensorflow.keras.applications import ResNet50\n",
        "from tensorflow.keras.layers import Dense, GlobalAveragePooling2D\n",
        "from tensorflow.keras.models import Sequential\n",
        "from tensorflow.keras.optimizers import Adam\n",
        "\n",
        "# Load data from CSV\n",
        "data = pd.read_csv('data.csv')\n",
        "\n",
        "# Extract feature columns (temperature, humidity, light) and target column (isWaterNeeded)\n",
        "X = data[['temperature', 'humidity', 'light']].values\n",
        "y = data['isWaterNeeded'].values\n",
        "\n",
        "# Convert each row into a 32x32x3 image\n",
        "images = []\n",
        "for row in X:\n",
        "    image = np.full((32, 32, 3), row)\n",
        "    images.append(image / 255.0)  # Normalize images then append\n",
        "\n",
        "# Convert the list of images and labels to numpy arrays\n",
        "images = np.array(images)\n",
        "labels = np.array(y)\n",
        "\n",
        "# Split the data into training and test sets\n",
        "X_train, X_test, y_train, y_test = train_test_split(images, labels, test_size=0.2, random_state=42)\n",
        "\n",
        "# Load the ResNet50 model (excluding the top layer)\n",
        "base_model = ResNet50(weights='imagenet', include_top=False, input_shape=(32, 32, 3))\n",
        "\n",
        "# Add custom layers on top of the ResNet50 model\n",
        "model = Sequential()\n",
        "model.add(base_model)\n",
        "model.add(GlobalAveragePooling2D())\n",
        "model.add(Dense(64, activation='relu'))\n",
        "model.add(Dense(1, activation='sigmoid'))\n",
        "\n",
        "# Freeze the pre-trained layers\n",
        "base_model.trainable = False\n",
        "\n",
        "# Compile the model\n",
        "model.compile(optimizer=Adam(), loss='binary_crossentropy', metrics=['accuracy'])\n",
        "\n",
        "# Train the model\n",
        "model.fit(X_train, y_train, epochs=3, batch_size=32)\n",
        "\n",
        "# Evaluate the model\n",
        "loss, accuracy = model.evaluate(X_test, y_test)\n",
        "print('Test loss:', loss)\n",
        "print('Test accuracy:', accuracy)\n",
        "\n",
        "# Make predictions\n",
        "predictions = model.predict(X_test)"
      ],
      "metadata": {
        "colab": {
          "base_uri": "https://localhost:8080/"
        },
        "id": "EqEQVn9i_GxW",
        "outputId": "6839c769-652d-431b-f912-227f01530143"
      },
      "execution_count": null,
      "outputs": [
        {
          "output_type": "stream",
          "name": "stdout",
          "text": [
            "Downloading data from https://storage.googleapis.com/tensorflow/keras-applications/resnet/resnet50_weights_tf_dim_ordering_tf_kernels_notop.h5\n",
            "94765736/94765736 [==============================] - 6s 0us/step\n",
            "Epoch 1/5\n",
            "2500/2500 [==============================] - 38s 10ms/step - loss: 0.3512 - accuracy: 0.8442\n",
            "Epoch 2/5\n",
            "2500/2500 [==============================] - 23s 9ms/step - loss: 0.1803 - accuracy: 0.9214\n",
            "Epoch 3/5\n",
            "2500/2500 [==============================] - 24s 10ms/step - loss: 0.1587 - accuracy: 0.9304\n",
            "Epoch 4/5\n",
            "2500/2500 [==============================] - 24s 10ms/step - loss: 0.1499 - accuracy: 0.9338\n",
            "Epoch 5/5\n",
            "2500/2500 [==============================] - 24s 10ms/step - loss: 0.1447 - accuracy: 0.9368\n",
            "625/625 [==============================] - 7s 10ms/step - loss: 0.1418 - accuracy: 0.9426\n",
            "Test loss: 0.1418362855911255\n",
            "Test accuracy: 0.942550003528595\n",
            "625/625 [==============================] - 6s 8ms/step\n"
          ]
        }
      ]
    },
    {
      "cell_type": "code",
      "source": [
        "import requests\n",
        "import time\n",
        "\n",
        "while (True):\n",
        "  response = requests.get(\"https://api.thingspeak.com/channels/2149892/feeds.json?api_key=NOA20XYUMWR6DN6W&results=1\").json()\n",
        "\n",
        "  feeds = response['feeds']\n",
        "\n",
        "  temperatures = []\n",
        "  humidities = []\n",
        "\n",
        "  for feed in feeds:\n",
        "      temperatures.append(float(feed['field1']))\n",
        "      humidities.append(float(feed['field2']))\n",
        "\n",
        "  avg_temperature = round(sum(temperatures) / len(temperatures), 1)\n",
        "  avg_humidity = round(sum(humidities) / len(humidities), 1)\n",
        "  avg_light = 0.0\n",
        "\n",
        "  sample = [avg_temperature, avg_humidity, avg_light]\n",
        "\n",
        "  sample_image = np.full((32, 32, 3), sample)\n",
        "\n",
        "  # Normalize the sample\n",
        "  sample_image = sample_image / 255.0\n",
        "\n",
        "  # Expand dimensions to create a batch of size 1\n",
        "  sample_image = np.expand_dims(sample_image, axis=0)\n",
        "\n",
        "  prediction = model.predict(sample_image)\n",
        "\n",
        "  isNeedWater = 1 if prediction[0][0] > 0.5 else 0\n",
        "\n",
        "  print(\"Average: [temperature, humidity, light] =\", sample)\n",
        "  print(\"Does the plant need water?\", isNeedWater)\n",
        "\n",
        "  response = requests.get(\"https://api.thingspeak.com/update?api_key=7U16F0PKBCATGNDB&field1=\" + str(isNeedWater))\n",
        "\n",
        "  time.sleep(5)"
      ],
      "metadata": {
        "id": "_byGABAZAr-U"
      },
      "execution_count": null,
      "outputs": []
    }
  ]
}